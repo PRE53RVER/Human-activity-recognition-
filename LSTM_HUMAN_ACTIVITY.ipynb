{
 "cells": [
  {
   "cell_type": "code",
   "execution_count": null,
   "metadata": {
    "id": "l3yCKu1XnEoT"
   },
   "outputs": [],
   "source": [
    "import numpy as np\n",
    "from numpy import dstack\n",
    "from pandas import read_csv\n",
    "from keras.models import Sequential\n",
    "from keras.layers import Dense\n",
    "from keras.layers import Flatten\n",
    "from keras.layers import Dropout\n",
    "from keras.layers import LSTM\n",
    "from tensorflow.keras.utils import to_categorical\n",
    "from matplotlib import pyplot\n",
    "import pandas as pd\n",
    "import seaborn as sns\n",
    "import tensorflow as tf"
   ]
  },
  {
   "cell_type": "code",
   "execution_count": null,
   "metadata": {
    "id": "E031ip2wnLYi"
   },
   "outputs": [],
   "source": [
    "def load_file(filepath):\n",
    "\tdataframe = read_csv(filepath, header=None, delim_whitespace=True)\n",
    "\treturn dataframe.values"
   ]
  },
  {
   "cell_type": "code",
   "execution_count": null,
   "metadata": {
    "id": "oQQw_eKWnb4P"
   },
   "outputs": [],
   "source": [
    "# fit and evaluate a model\n",
    "def evaluate_model(trainX, trainy, testX, testy,verbose=0):\n",
    "\tepochs, batch_size = 50, 64\n",
    "\tn_timesteps, n_features, n_outputs = trainX.shape[1], trainX.shape[2], trainy.shape[1]\n",
    "\tmodel = Sequential()\n",
    "\tmodel.add(LSTM(100, input_shape=(n_timesteps,n_features)))\n",
    "\tmodel.add(Dropout(0.5))\n",
    "\tmodel.add(Dense(100, activation='relu'))\n",
    "\tmodel.add(Dense(n_outputs, activation='softmax'))\n",
    "\tmodel.compile(loss='categorical_crossentropy', optimizer='adam', metrics=['accuracy'])\n",
    "\t# fit network\n",
    "\thistory = model.fit(trainX, trainy,validation_split = 0.1, callbacks=[\n",
    "        tf.keras.callbacks.EarlyStopping(\n",
    "            monitor='val_loss',\n",
    "            patience=10,\n",
    "            restore_best_weights=True\n",
    "        )\n",
    "    ],epochs=epochs, batch_size=batch_size,verbose=verbose)\n",
    "\t# evaluate model\n",
    "\t_, accuracy = model.evaluate(testX, testy, batch_size=batch_size)\n",
    "\treturn accuracy,history,model"
   ]
  },
  {
   "cell_type": "code",
   "execution_count": null,
   "metadata": {
    "id": "tnBnrqoznlSw"
   },
   "outputs": [],
   "source": [
    "body_acc_x_train = load_file('UCI HAR Dataset/train/Inertial Signals/body_acc_x_train.txt')\n",
    "body_acc_y_train = load_file('UCI HAR Dataset/train/Inertial Signals/body_acc_y_train.txt')\n",
    "body_acc_z_train = load_file('UCI HAR Dataset/train/Inertial Signals/body_acc_z_train.txt')\n",
    "body_gyro_x_train = load_file('UCI HAR Dataset/train/Inertial Signals/body_gyro_x_train.txt')\n",
    "body_gyro_y_train = load_file('UCI HAR Dataset/train/Inertial Signals/body_gyro_y_train.txt')\n",
    "body_gyro_z_train = load_file('UCI HAR Dataset/train/Inertial Signals/body_gyro_z_train.txt')\n",
    "total_acc_x_train = load_file('UCI HAR Dataset/train/Inertial Signals/total_acc_x_train.txt')\n",
    "total_acc_y_train = load_file('UCI HAR Dataset/train/Inertial Signals/total_acc_y_train.txt')\n",
    "total_acc_z_train = load_file('UCI HAR Dataset/train/Inertial Signals/total_acc_z_train.txt')\n"
   ]
  },
  {
   "cell_type": "code",
   "execution_count": null,
   "metadata": {
    "colab": {
     "base_uri": "https://localhost:8080/"
    },
    "id": "o9uXZ69Q5eX8",
    "outputId": "7bee58a6-9468-4bcc-aa11-027ad4374d8b"
   },
   "outputs": [
    {
     "data": {
      "text/plain": [
       "(7352, 128)"
      ]
     },
     "execution_count": 9,
     "metadata": {},
     "output_type": "execute_result"
    }
   ],
   "source": [
    "body_acc_x_train.shape"
   ]
  },
  {
   "cell_type": "code",
   "execution_count": null,
   "metadata": {
    "id": "HF20J0cOnqSA"
   },
   "outputs": [],
   "source": [
    "trainX = dstack((body_acc_x_train,body_acc_y_train,body_acc_z_train,body_gyro_x_train,body_gyro_y_train,body_gyro_z_train,total_acc_x_train,total_acc_y_train,total_acc_z_train))\n",
    "trainy = load_file('UCI HAR Dataset/train/y_train.txt')"
   ]
  },
  {
   "cell_type": "code",
   "execution_count": null,
   "metadata": {
    "id": "3n6rSJosn7Ww"
   },
   "outputs": [],
   "source": [
    "body_acc_x_test = load_file('UCI HAR Dataset/test/Inertial Signals/body_acc_x_test.txt')\n",
    "body_acc_y_test = load_file('UCI HAR Dataset/test/Inertial Signals/body_acc_y_test.txt')\n",
    "body_acc_z_test = load_file('UCI HAR Dataset/test/Inertial Signals/body_acc_z_test.txt')\n",
    "body_gyro_x_test = load_file('UCI HAR Dataset/test/Inertial Signals/body_gyro_x_test.txt')\n",
    "body_gyro_y_test = load_file('UCI HAR Dataset/test/Inertial Signals/body_gyro_y_test.txt')\n",
    "body_gyro_z_test = load_file('UCI HAR Dataset/test/Inertial Signals/body_gyro_z_test.txt')\n",
    "total_acc_x_test = load_file('UCI HAR Dataset/test/Inertial Signals/total_acc_x_test.txt')\n",
    "total_acc_y_test = load_file('UCI HAR Dataset/test/Inertial Signals/total_acc_y_test.txt')\n",
    "total_acc_z_test = load_file('UCI HAR Dataset/test/Inertial Signals/total_acc_z_test.txt')"
   ]
  },
  {
   "cell_type": "code",
   "execution_count": null,
   "metadata": {
    "id": "Y-mMe3_nn_4x"
   },
   "outputs": [],
   "source": [
    "testX = dstack((body_acc_x_test,body_acc_y_test,body_acc_z_test,body_gyro_x_test,body_gyro_y_test,body_gyro_z_test,total_acc_x_test,total_acc_y_test,total_acc_z_test))\n",
    "testy = load_file('UCI HAR Dataset/UCI HAR Dataset/test/y_test.txt')"
   ]
  },
  {
   "cell_type": "code",
   "execution_count": null,
   "metadata": {
    "colab": {
     "base_uri": "https://localhost:8080/"
    },
    "id": "23eFKPNcoJJh",
    "outputId": "ece9c45f-72f9-4c6c-d5c7-104a677ace39"
   },
   "outputs": [
    {
     "data": {
      "text/plain": [
       "((7352, 128, 9), (7352, 1), (2947, 128, 9), (2947, 1))"
      ]
     },
     "execution_count": 8,
     "metadata": {},
     "output_type": "execute_result"
    }
   ],
   "source": [
    "trainX.shape,trainy.shape,testX.shape,testy.shape"
   ]
  },
  {
   "cell_type": "code",
   "execution_count": null,
   "metadata": {
    "colab": {
     "base_uri": "https://localhost:8080/"
    },
    "id": "zBwY_AKIoX2g",
    "outputId": "3111e9bf-199e-4b80-8e87-2095c662ed2a"
   },
   "outputs": [
    {
     "name": "stdout",
     "output_type": "stream",
     "text": [
      "(7352, 6) (2947, 6)\n"
     ]
    }
   ],
   "source": [
    "trainy = trainy - 1\n",
    "testy = testy - 1\n",
    "\n",
    "trainy = to_categorical(trainy)\n",
    "testy = to_categorical(testy)\n",
    "print(trainy.shape,testy.shape)"
   ]
  },
  {
   "cell_type": "code",
   "execution_count": null,
   "metadata": {
    "colab": {
     "base_uri": "https://localhost:8080/"
    },
    "id": "UXi398mRaPGu",
    "outputId": "b3e336bf-f159-480a-a768-12d98e7f18c5"
   },
   "outputs": [
    {
     "data": {
      "text/plain": [
       "(2947, 6)"
      ]
     },
     "execution_count": 11,
     "metadata": {},
     "output_type": "execute_result"
    }
   ],
   "source": [
    "testy.shape\n"
   ]
  },
  {
   "cell_type": "code",
   "execution_count": null,
   "metadata": {
    "colab": {
     "background_save": true,
     "base_uri": "https://localhost:8080/"
    },
    "id": "wEjTFy3h_1Fz",
    "outputId": "1debe95a-a8ca-4ed8-cdba-d583522b0334"
   },
   "outputs": [
    {
     "name": "stdout",
     "output_type": "stream",
     "text": [
      "Epoch 1/50\n",
      "104/104 [==============================] - 19s 162ms/step - loss: 1.2277 - accuracy: 0.4807 - val_loss: 0.7871 - val_accuracy: 0.6970\n",
      "Epoch 2/50\n",
      "104/104 [==============================] - 17s 162ms/step - loss: 0.8364 - accuracy: 0.6459 - val_loss: 0.6477 - val_accuracy: 0.6821\n",
      "Epoch 3/50\n",
      "104/104 [==============================] - 17s 164ms/step - loss: 0.6106 - accuracy: 0.7399 - val_loss: 0.4856 - val_accuracy: 0.7908\n",
      "Epoch 4/50\n",
      "104/104 [==============================] - 18s 171ms/step - loss: 0.4617 - accuracy: 0.8232 - val_loss: 0.4184 - val_accuracy: 0.8274\n",
      "Epoch 5/50\n",
      "104/104 [==============================] - 18s 171ms/step - loss: 0.3468 - accuracy: 0.8788 - val_loss: 0.2371 - val_accuracy: 0.9226\n",
      "Epoch 6/50\n",
      "104/104 [==============================] - 18s 172ms/step - loss: 0.2349 - accuracy: 0.9247 - val_loss: 0.2427 - val_accuracy: 0.9090\n",
      "Epoch 7/50\n",
      "104/104 [==============================] - 18s 172ms/step - loss: 0.2133 - accuracy: 0.9318 - val_loss: 0.2094 - val_accuracy: 0.9239\n",
      "Epoch 8/50\n",
      "104/104 [==============================] - 18s 173ms/step - loss: 0.2090 - accuracy: 0.9324 - val_loss: 0.2123 - val_accuracy: 0.9185\n",
      "Epoch 9/50\n",
      "104/104 [==============================] - 18s 172ms/step - loss: 0.2192 - accuracy: 0.9246 - val_loss: 0.1701 - val_accuracy: 0.9117\n",
      "Epoch 10/50\n",
      "104/104 [==============================] - 18s 171ms/step - loss: 0.1836 - accuracy: 0.9427 - val_loss: 0.1738 - val_accuracy: 0.9266\n",
      "Epoch 11/50\n",
      "104/104 [==============================] - 17s 165ms/step - loss: 0.1568 - accuracy: 0.9451 - val_loss: 0.6304 - val_accuracy: 0.7976\n",
      "Epoch 12/50\n",
      "104/104 [==============================] - 17s 160ms/step - loss: 0.2403 - accuracy: 0.9217 - val_loss: 0.1756 - val_accuracy: 0.9226\n",
      "Epoch 13/50\n",
      "104/104 [==============================] - 21s 201ms/step - loss: 0.1596 - accuracy: 0.9456 - val_loss: 0.2077 - val_accuracy: 0.9049\n",
      "Epoch 14/50\n",
      "104/104 [==============================] - 19s 179ms/step - loss: 0.1344 - accuracy: 0.9527 - val_loss: 0.1743 - val_accuracy: 0.9280\n",
      "Epoch 15/50\n",
      "104/104 [==============================] - 17s 163ms/step - loss: 0.1254 - accuracy: 0.9547 - val_loss: 0.1457 - val_accuracy: 0.9253\n",
      "Epoch 16/50\n",
      "104/104 [==============================] - 17s 161ms/step - loss: 0.1181 - accuracy: 0.9542 - val_loss: 0.1520 - val_accuracy: 0.9266\n",
      "Epoch 17/50\n",
      "104/104 [==============================] - 17s 166ms/step - loss: 0.1141 - accuracy: 0.9583 - val_loss: 0.1558 - val_accuracy: 0.9253\n",
      "Epoch 18/50\n",
      "104/104 [==============================] - 17s 164ms/step - loss: 0.1090 - accuracy: 0.9598 - val_loss: 0.1622 - val_accuracy: 0.9171\n",
      "Epoch 19/50\n",
      "104/104 [==============================] - 17s 162ms/step - loss: 0.1108 - accuracy: 0.9592 - val_loss: 0.1505 - val_accuracy: 0.9144\n",
      "Epoch 20/50\n",
      "104/104 [==============================] - 17s 162ms/step - loss: 0.1130 - accuracy: 0.9581 - val_loss: 0.1396 - val_accuracy: 0.9171\n",
      "Epoch 21/50\n",
      "104/104 [==============================] - 17s 161ms/step - loss: 0.1148 - accuracy: 0.9574 - val_loss: 0.1488 - val_accuracy: 0.9130\n",
      "Epoch 22/50\n",
      "104/104 [==============================] - 17s 165ms/step - loss: 0.1206 - accuracy: 0.9551 - val_loss: 0.1500 - val_accuracy: 0.9212\n",
      "Epoch 23/50\n",
      "104/104 [==============================] - 17s 162ms/step - loss: 0.1639 - accuracy: 0.9465 - val_loss: 0.1356 - val_accuracy: 0.9144\n",
      "Epoch 24/50\n",
      "104/104 [==============================] - 17s 162ms/step - loss: 0.1741 - accuracy: 0.9368 - val_loss: 0.1703 - val_accuracy: 0.9239\n",
      "Epoch 25/50\n",
      "104/104 [==============================] - 17s 162ms/step - loss: 0.1212 - accuracy: 0.9542 - val_loss: 0.1689 - val_accuracy: 0.9198\n",
      "Epoch 26/50\n",
      "104/104 [==============================] - 17s 167ms/step - loss: 0.1354 - accuracy: 0.9495 - val_loss: 0.1664 - val_accuracy: 0.9253\n",
      "Epoch 27/50\n",
      "104/104 [==============================] - 17s 163ms/step - loss: 0.1206 - accuracy: 0.9539 - val_loss: 0.1429 - val_accuracy: 0.9090\n",
      "Epoch 28/50\n",
      "104/104 [==============================] - 17s 161ms/step - loss: 0.2175 - accuracy: 0.9193 - val_loss: 0.1149 - val_accuracy: 0.9348\n",
      "Epoch 29/50\n",
      "104/104 [==============================] - 17s 162ms/step - loss: 0.1634 - accuracy: 0.9420 - val_loss: 0.1654 - val_accuracy: 0.9307\n",
      "Epoch 30/50\n",
      "104/104 [==============================] - 21s 206ms/step - loss: 0.1234 - accuracy: 0.9518 - val_loss: 0.2058 - val_accuracy: 0.9266\n",
      "Epoch 31/50\n",
      "104/104 [==============================] - 17s 162ms/step - loss: 0.1191 - accuracy: 0.9515 - val_loss: 0.1633 - val_accuracy: 0.9293\n",
      "Epoch 32/50\n",
      "104/104 [==============================] - 17s 162ms/step - loss: 0.1150 - accuracy: 0.9559 - val_loss: 0.1280 - val_accuracy: 0.9144\n",
      "Epoch 33/50\n",
      "104/104 [==============================] - 17s 162ms/step - loss: 0.1119 - accuracy: 0.9572 - val_loss: 0.1453 - val_accuracy: 0.9198\n",
      "Epoch 34/50\n",
      "104/104 [==============================] - 17s 163ms/step - loss: 0.1176 - accuracy: 0.9533 - val_loss: 0.1193 - val_accuracy: 0.9321\n",
      "Epoch 35/50\n",
      "104/104 [==============================] - 17s 161ms/step - loss: 0.1188 - accuracy: 0.9537 - val_loss: 0.1466 - val_accuracy: 0.9117\n",
      "Epoch 36/50\n",
      "104/104 [==============================] - 17s 161ms/step - loss: 0.1083 - accuracy: 0.9581 - val_loss: 0.1369 - val_accuracy: 0.9266\n",
      "Epoch 37/50\n",
      "104/104 [==============================] - 17s 164ms/step - loss: 0.1072 - accuracy: 0.9593 - val_loss: 0.1248 - val_accuracy: 0.9280\n",
      "Epoch 38/50\n",
      "104/104 [==============================] - 17s 161ms/step - loss: 0.1093 - accuracy: 0.9580 - val_loss: 0.1641 - val_accuracy: 0.9266\n",
      "47/47 [==============================] - 3s 67ms/step - loss: 0.4017 - accuracy: 0.8856\n"
     ]
    }
   ],
   "source": [
    "accuracy,history,model = evaluate_model(trainX, trainy, testX, testy,verbose=1)"
   ]
  },
  {
   "cell_type": "code",
   "execution_count": null,
   "metadata": {
    "colab": {
     "background_save": true
    },
    "id": "IGOgDo1FLjBr",
    "outputId": "254ffc55-004c-4978-d7a2-747cb849af28"
   },
   "outputs": [
    {
     "name": "stdout",
     "output_type": "stream",
     "text": [
      "Model: \"sequential\"\n",
      "_________________________________________________________________\n",
      " Layer (type)                Output Shape              Param #   \n",
      "=================================================================\n",
      " lstm (LSTM)                 (None, 100)               44000     \n",
      "                                                                 \n",
      " dropout (Dropout)           (None, 100)               0         \n",
      "                                                                 \n",
      " dense (Dense)               (None, 100)               10100     \n",
      "                                                                 \n",
      " dense_1 (Dense)             (None, 6)                 606       \n",
      "                                                                 \n",
      "=================================================================\n",
      "Total params: 54,706\n",
      "Trainable params: 54,706\n",
      "Non-trainable params: 0\n",
      "_________________________________________________________________\n"
     ]
    }
   ],
   "source": [
    "model.summary()"
   ]
  },
  {
   "cell_type": "code",
   "execution_count": null,
   "metadata": {
    "colab": {
     "background_save": true
    },
    "id": "VE2npyufWQvk",
    "outputId": "83d28f9f-f59a-4b4d-8c0c-97ce76eb6337"
   },
   "outputs": [
    {
     "data": {
      "text/plain": [
       "0.885646402835846"
      ]
     },
     "execution_count": 14,
     "metadata": {},
     "output_type": "execute_result"
    }
   ],
   "source": [
    "accuracy"
   ]
  },
  {
   "cell_type": "code",
   "execution_count": null,
   "metadata": {
    "colab": {
     "background_save": true
    },
    "id": "wsOZBA6ZQvcs",
    "outputId": "637c3cfa-9462-4fa8-a201-eb083717f112"
   },
   "outputs": [
    {
     "data": {
      "text/plain": [
       "<matplotlib.axes._subplots.AxesSubplot at 0x7fb3a682d610>"
      ]
     },
     "execution_count": 15,
     "metadata": {},
     "output_type": "execute_result"
    },
    {
     "data": {
      "image/png": "[encoded data removed]",
      "text/plain": [
       "<Figure size 432x288 with 1 Axes>"
      ]
     },
     "metadata": {},
     "output_type": "display_data"
    }
   ],
   "source": [
    "sns.set_style('darkgrid')\n",
    "pd.DataFrame(history.history)[['accuracy','val_accuracy']].plot()"
   ]
  },
  {
   "cell_type": "code",
   "execution_count": null,
   "metadata": {
    "colab": {
     "background_save": true
    },
    "id": "IRGTtT1sRUvL",
    "outputId": "b058cc5b-6abb-457b-cf89-65de5807ce52"
   },
   "outputs": [
    {
     "data": {
      "text/plain": [
       "<matplotlib.axes._subplots.AxesSubplot at 0x7fb3a62bb880>"
      ]
     },
     "execution_count": 16,
     "metadata": {},
     "output_type": "execute_result"
    },
    {
     "data": {
      "image/png": "[encoded data removed]",
      "text/plain": [
       "<Figure size 432x288 with 1 Axes>"
      ]
     },
     "metadata": {},
     "output_type": "display_data"
    }
   ],
   "source": [
    "pd.DataFrame(history.history)[['loss','val_loss']].plot()"
   ]
  },
  {
   "cell_type": "code",
   "execution_count": null,
   "metadata": {
    "colab": {
     "background_save": true
    },
    "id": "OB-PlsBFIt1X",
    "outputId": "cb444e2c-e200-4bbc-f498-0d213a8f1107"
   },
   "outputs": [
    {
     "name": "stdout",
     "output_type": "stream",
     "text": [
      "93/93 [==============================] - 3s 28ms/step\n",
      "[0, 0, 0, 0, 1, 0] [0. 0. 0. 0. 1. 0.]\n",
      "MSE: 0.03811785997059156\n",
      "R2 score: 0.7284346536007774\n"
     ]
    }
   ],
   "source": [
    "from sklearn.metrics import mean_squared_error, r2_score\n",
    "\n",
    "predicty=list(map(lambda x: np.argmax(x)*[0]+[1]+(5-np.argmax(x))*[0],model.predict(testX,verbose=True)))\n",
    "print(predicty[1],testy[1])\n",
    "rmse = mean_squared_error(testy, predicty)\n",
    "r2 = r2_score(testy, predicty)\n",
    "\n",
    "print(\"MSE:\", rmse)\n",
    "print(\"R2 score:\",r2)"
   ]
  },
  {
   "cell_type": "code",
   "execution_count": null,
   "metadata": {
    "id": "wxbkJ_dCUEQ_"
   },
   "outputs": [],
   "source": []
  }
 ],
 "metadata": {
  "colab": {
   "provenance": []
  },
  "kernelspec": {
   "display_name": "Python 3 (ipykernel)",
   "language": "python",
   "name": "python3"
  },
  "language_info": {
   "codemirror_mode": {
    "name": "ipython",
    "version": 3
   },
   "file_extension": ".py",
   "mimetype": "text/x-python",
   "name": "python",
   "nbconvert_exporter": "python",
   "pygments_lexer": "ipython3",
   "version": "3.10.9"
  }
 },
 "nbformat": 4,
 "nbformat_minor": 1
}
